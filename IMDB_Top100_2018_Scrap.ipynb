{
 "cells": [
  {
   "cell_type": "code",
   "execution_count": 1,
   "metadata": {},
   "outputs": [],
   "source": [
    "import pandas as pd\n",
    "from bs4 import BeautifulSoup\n",
    "import requests"
   ]
  },
  {
   "cell_type": "code",
   "execution_count": 2,
   "metadata": {},
   "outputs": [],
   "source": [
    "url = \"https://www.imdb.com/list/ls041322734/?sort=list_order,asc&st_dt=&mode=detail&page=\"\n",
    "\n",
    "page = requests.get(url)\n",
    "soup = BeautifulSoup(page.content, 'html.parser')"
   ]
  },
  {
   "cell_type": "code",
   "execution_count": 3,
   "metadata": {},
   "outputs": [],
   "source": [
    "page_content = soup.find(class_='lister-list')\n",
    "items = page_content.find_all(class_ = 'lister-item')"
   ]
  },
  {
   "cell_type": "code",
   "execution_count": 4,
   "metadata": {},
   "outputs": [],
   "source": [
    "movie_ = soup.find_all('h3', class_='lister-item-header')\n",
    "movie_title = [movie.find('a').get_text() for movie in movie_]"
   ]
  },
  {
   "cell_type": "code",
   "execution_count": 5,
   "metadata": {},
   "outputs": [],
   "source": [
    "movie_rank = [movie.find(class_='lister-item-index unbold text-primary').get_text()[:-1] for movie in soup.findAll('h3', class_='lister-item-header')]"
   ]
  },
  {
   "cell_type": "code",
   "execution_count": 6,
   "metadata": {},
   "outputs": [],
   "source": [
    "movie_year = [movie.find(class_= 'lister-item-year text-muted unbold').get_text()[1:-1] for movie in soup.findAll('h3', class_='lister-item-header')]"
   ]
  },
  {
   "cell_type": "code",
   "execution_count": 7,
   "metadata": {},
   "outputs": [],
   "source": [
    "#movie_certificate = [movie.text for movie in soup.find_all(class_='certificate')]\n",
    "movie_certificate=[]\n",
    "k='Nil'\n",
    "cert_detail = soup.find_all(class_='lister-item-content')\n",
    "cert = [movie.find(class_='certificate') for movie in cert_detail]\n",
    "for mov in cert:\n",
    "    if mov is not None:\n",
    "        movie_certificate.append(mov.text)\n",
    "    else:\n",
    "        movie_certificate.append(k)"
   ]
  },
  {
   "cell_type": "code",
   "execution_count": 8,
   "metadata": {},
   "outputs": [],
   "source": [
    "movie_runtime = [movie.text for movie in soup.find_all(class_='runtime')]"
   ]
  },
  {
   "cell_type": "code",
   "execution_count": 9,
   "metadata": {},
   "outputs": [],
   "source": [
    "movie_genre = [movie.text[1:-8][:-4] for movie in soup.find_all(class_='genre')]"
   ]
  },
  {
   "cell_type": "code",
   "execution_count": 10,
   "metadata": {},
   "outputs": [],
   "source": [
    "movie_rating = [movie.find('span',class_='ipl-rating-star__rating').text for movie in soup.find_all(class_='ipl-rating-star small')]"
   ]
  },
  {
   "cell_type": "code",
   "execution_count": 11,
   "metadata": {},
   "outputs": [],
   "source": [
    "#movie_metascore = [movie.text[1:3] for movie in soup.find_all('div', class_='inline-block ratings-metascore')]\n",
    "movie_metascore=[]\n",
    "meta_score=[]\n",
    "k='Nil'\n",
    "meta_detail = soup.find_all(class_='lister-item-content')\n",
    "meta_ = [movie.find(class_= 'inline-block ratings-metascore') for movie in meta_detail]\n",
    "\n",
    "for met in meta_:\n",
    "    if met is not None:\n",
    "        meta_score.append(met.find('span'))\n",
    "    else:\n",
    "        meta_score.append(k)\n",
    "for metascore in meta_score:\n",
    "    if metascore is not 'Nil':\n",
    "        movie_metascore.append(metascore.text[:-8])\n",
    "    else:\n",
    "        movie_metascore.append(k)"
   ]
  },
  {
   "cell_type": "code",
   "execution_count": 12,
   "metadata": {},
   "outputs": [],
   "source": [
    "#movie_votes = [movie['data-value'] for movie in soup.find_all('span',{'name':'nv'})[0::2]]\n",
    "mov = soup.find_all(class_='lister-item-content')\n",
    "mov_vote = [movie.find_all('span',{'name':'nv'}) for movie in mov]\n",
    "m_votes = [mv[0] for mv in mov_vote]\n",
    "movie_votes = [m_v['data-value'] for m_v in m_votes]"
   ]
  },
  {
   "cell_type": "code",
   "execution_count": 13,
   "metadata": {},
   "outputs": [],
   "source": [
    "#movie_gross = [movie['data-value'] for movie in soup.find_all('span',{'name':'nv'})[1::2]]\n",
    "mov = soup.find_all(class_='lister-item-content')\n",
    "mov_gross = [movie.find_all('span',{'name':'nv'}) for movie in mov]\n",
    "m_gross = [mv[0] for mv in mov_gross]\n",
    "movie_gross = [m_v['data-value'] for m_v in m_gross]"
   ]
  },
  {
   "cell_type": "code",
   "execution_count": 14,
   "metadata": {},
   "outputs": [],
   "source": [
    "movie_director = [mov.text for mov in [movie.find('a') for movie in soup.find_all('p', class_='text-muted text-small')[1::3]]]"
   ]
  },
  {
   "cell_type": "code",
   "execution_count": 15,
   "metadata": {},
   "outputs": [],
   "source": [
    "#movie_actors = [movie_actors = [mov.text for mov in [movie.find('a') for movie in soup.find_all('p', class_='text-muted text-small')[2:5:1]]]mov.text for mov in [movie.find('a') for movie in soup.find_all('p', class_='text-muted text-small')[2:5:1]]]"
   ]
  },
  {
   "cell_type": "code",
   "execution_count": 16,
   "metadata": {},
   "outputs": [],
   "source": [
    "actors_data = soup.find_all('p', class_='text-muted text-small')[1::3]\n",
    "movie_actors=[]\n",
    "for i in range(0,100):\n",
    "    m_actor = [act.text for act in [actors for actors in [data for data in [movie.find_all('a') for movie in actors_data]][i][1:]]]\n",
    "    movie_actors.append(m_actor)"
   ]
  },
  {
   "cell_type": "code",
   "execution_count": 17,
   "metadata": {},
   "outputs": [],
   "source": [
    "df_dict = {'Movie Rank': movie_rank, 'Title': movie_title, 'Relase': movie_year,\n",
    "           'Movie Certificate': movie_certificate, 'Metascore': movie_metascore,'Runtime': movie_runtime,\n",
    "           'Genre': movie_genre, 'IMDB Rating': movie_rating, 'Votes': movie_votes,\n",
    "           'Box Office Earnings': movie_gross, 'Director': movie_director, 'Actors': movie_actors}"
   ]
  },
  {
   "cell_type": "code",
   "execution_count": 18,
   "metadata": {},
   "outputs": [
    {
     "name": "stdout",
     "output_type": "stream",
     "text": [
      "100\n",
      "100\n",
      "100\n",
      "100\n",
      "100\n",
      "100\n",
      "100\n",
      "100\n",
      "100\n",
      "100\n",
      "100\n",
      "100\n"
     ]
    }
   ],
   "source": [
    "print(len(movie_rank))\n",
    "print(len(movie_title))\n",
    "print(len(movie_year))\n",
    "print(len(movie_certificate))\n",
    "print(len(movie_metascore))\n",
    "print(len(movie_runtime))\n",
    "print(len(movie_genre))\n",
    "print(len(movie_rating))\n",
    "print(len(movie_votes))\n",
    "print(len(movie_gross))\n",
    "print(len(movie_director))\n",
    "print(len(movie_actors))"
   ]
  },
  {
   "cell_type": "code",
   "execution_count": 19,
   "metadata": {},
   "outputs": [
    {
     "data": {
      "text/html": [
       "<div>\n",
       "<style scoped>\n",
       "    .dataframe tbody tr th:only-of-type {\n",
       "        vertical-align: middle;\n",
       "    }\n",
       "\n",
       "    .dataframe tbody tr th {\n",
       "        vertical-align: top;\n",
       "    }\n",
       "\n",
       "    .dataframe thead th {\n",
       "        text-align: right;\n",
       "    }\n",
       "</style>\n",
       "<table border=\"1\" class=\"dataframe\">\n",
       "  <thead>\n",
       "    <tr style=\"text-align: right;\">\n",
       "      <th></th>\n",
       "      <th>Movie Rank</th>\n",
       "      <th>Title</th>\n",
       "      <th>Relase</th>\n",
       "      <th>Movie Certificate</th>\n",
       "      <th>Metascore</th>\n",
       "      <th>Runtime</th>\n",
       "      <th>Genre</th>\n",
       "      <th>IMDB Rating</th>\n",
       "      <th>Votes</th>\n",
       "      <th>Box Office Earnings</th>\n",
       "      <th>Director</th>\n",
       "      <th>Actors</th>\n",
       "    </tr>\n",
       "  </thead>\n",
       "  <tbody>\n",
       "    <tr>\n",
       "      <th>0</th>\n",
       "      <td>1</td>\n",
       "      <td>The Shawshank Redemption</td>\n",
       "      <td>1994</td>\n",
       "      <td>R</td>\n",
       "      <td>80</td>\n",
       "      <td>142 min</td>\n",
       "      <td>Drama</td>\n",
       "      <td>9.3</td>\n",
       "      <td>2173411</td>\n",
       "      <td>2173411</td>\n",
       "      <td>Frank Darabont</td>\n",
       "      <td>[Tim Robbins, Morgan Freeman, Bob Gunton, Will...</td>\n",
       "    </tr>\n",
       "    <tr>\n",
       "      <th>1</th>\n",
       "      <td>2</td>\n",
       "      <td>The Godfather</td>\n",
       "      <td>1972</td>\n",
       "      <td>Nil</td>\n",
       "      <td>100</td>\n",
       "      <td>175 min</td>\n",
       "      <td>Crime, Drama</td>\n",
       "      <td>9.2</td>\n",
       "      <td>1497289</td>\n",
       "      <td>1497289</td>\n",
       "      <td>Francis Ford Coppola</td>\n",
       "      <td>[Marlon Brando, Al Pacino, James Caan, Diane K...</td>\n",
       "    </tr>\n",
       "    <tr>\n",
       "      <th>2</th>\n",
       "      <td>3</td>\n",
       "      <td>The Godfather: Part II</td>\n",
       "      <td>1974</td>\n",
       "      <td>Nil</td>\n",
       "      <td>90</td>\n",
       "      <td>202 min</td>\n",
       "      <td>Crime, Drama</td>\n",
       "      <td>9</td>\n",
       "      <td>1048260</td>\n",
       "      <td>1048260</td>\n",
       "      <td>Francis Ford Coppola</td>\n",
       "      <td>[Al Pacino, Robert De Niro, Robert Duvall, Dia...</td>\n",
       "    </tr>\n",
       "    <tr>\n",
       "      <th>3</th>\n",
       "      <td>4</td>\n",
       "      <td>The Dark Knight</td>\n",
       "      <td>2008</td>\n",
       "      <td>PG-13</td>\n",
       "      <td>84</td>\n",
       "      <td>152 min</td>\n",
       "      <td>Action, Crime, Drama</td>\n",
       "      <td>9</td>\n",
       "      <td>2157470</td>\n",
       "      <td>2157470</td>\n",
       "      <td>Christopher Nolan</td>\n",
       "      <td>[Christian Bale, Heath Ledger, Aaron Eckhart, ...</td>\n",
       "    </tr>\n",
       "    <tr>\n",
       "      <th>4</th>\n",
       "      <td>5</td>\n",
       "      <td>12 Angry Men</td>\n",
       "      <td>1957</td>\n",
       "      <td>Nil</td>\n",
       "      <td>96</td>\n",
       "      <td>96 min</td>\n",
       "      <td>Drama</td>\n",
       "      <td>8.9</td>\n",
       "      <td>632607</td>\n",
       "      <td>632607</td>\n",
       "      <td>Sidney Lumet</td>\n",
       "      <td>[Henry Fonda, Lee J. Cobb, Martin Balsam, John...</td>\n",
       "    </tr>\n",
       "  </tbody>\n",
       "</table>\n",
       "</div>"
      ],
      "text/plain": [
       "  Movie Rank                     Title Relase Movie Certificate Metascore  \\\n",
       "0          1  The Shawshank Redemption   1994                 R        80   \n",
       "1          2             The Godfather   1972               Nil       100   \n",
       "2          3    The Godfather: Part II   1974               Nil        90   \n",
       "3          4           The Dark Knight   2008             PG-13        84   \n",
       "4          5              12 Angry Men   1957               Nil        96   \n",
       "\n",
       "   Runtime                 Genre IMDB Rating    Votes Box Office Earnings  \\\n",
       "0  142 min                 Drama         9.3  2173411             2173411   \n",
       "1  175 min          Crime, Drama         9.2  1497289             1497289   \n",
       "2  202 min          Crime, Drama           9  1048260             1048260   \n",
       "3  152 min  Action, Crime, Drama           9  2157470             2157470   \n",
       "4   96 min                 Drama         8.9   632607              632607   \n",
       "\n",
       "               Director                                             Actors  \n",
       "0        Frank Darabont  [Tim Robbins, Morgan Freeman, Bob Gunton, Will...  \n",
       "1  Francis Ford Coppola  [Marlon Brando, Al Pacino, James Caan, Diane K...  \n",
       "2  Francis Ford Coppola  [Al Pacino, Robert De Niro, Robert Duvall, Dia...  \n",
       "3     Christopher Nolan  [Christian Bale, Heath Ledger, Aaron Eckhart, ...  \n",
       "4          Sidney Lumet  [Henry Fonda, Lee J. Cobb, Martin Balsam, John...  "
      ]
     },
     "execution_count": 19,
     "metadata": {},
     "output_type": "execute_result"
    }
   ],
   "source": [
    "df = pd.DataFrame(df_dict)\n",
    "df.head()"
   ]
  },
  {
   "cell_type": "code",
   "execution_count": 22,
   "metadata": {},
   "outputs": [],
   "source": [
    "export_csv = df.to_csv('/home/muneeb/IMDB_top100.csv', index = None, header=True)"
   ]
  },
  {
   "cell_type": "code",
   "execution_count": null,
   "metadata": {},
   "outputs": [],
   "source": []
  }
 ],
 "metadata": {
  "kernelspec": {
   "display_name": "Python 3",
   "language": "python",
   "name": "python3"
  },
  "language_info": {
   "codemirror_mode": {
    "name": "ipython",
    "version": 3
   },
   "file_extension": ".py",
   "mimetype": "text/x-python",
   "name": "python",
   "nbconvert_exporter": "python",
   "pygments_lexer": "ipython3",
   "version": "3.7.3"
  }
 },
 "nbformat": 4,
 "nbformat_minor": 2
}
